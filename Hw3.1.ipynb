{
 "cells": [
  {
   "cell_type": "code",
   "execution_count": 24,
   "metadata": {},
   "outputs": [],
   "source": [
    "import pandas as pd\n",
    "import numpy as np\n",
    "from sklearn.linear_model import LinearRegression as lr"
   ]
  },
  {
   "cell_type": "code",
   "execution_count": 25,
   "id": "3c8e9a2f",
   "metadata": {},
   "outputs": [
    {
     "name": "stdout",
     "output_type": "stream",
     "text": [
      "Результат гіпотези: 38\n"
     ]
    }
   ],
   "source": [
    "#напишіть функцію гіпотези лінійної регресії у векторному вигляді;\n",
    "def h(X, w):\n",
    "  return np.dot(X, w)\n",
    "\n",
    "X = np.array([6, 2]) \n",
    "w = np.array([4, 7]) \n",
    "result = h(X, w)\n",
    "print(\"Результат гіпотези:\", result)"
   ]
  },
  {
   "cell_type": "code",
   "execution_count": 26,
   "id": "e2fd7a65",
   "metadata": {},
   "outputs": [
    {
     "name": "stdout",
     "output_type": "stream",
     "text": [
      "Функція втрат MSE: 19220.0\n"
     ]
    }
   ],
   "source": [
    "#створіть функцію для обчислення функції втрат у векторному вигляді;\n",
    "def loss_function(X, y, w):\n",
    "  return np.square(h(X, w) - y).sum() / (2 * len(X))\n",
    "\n",
    "X = np.array([4, 2, 7, 4, 15]) \n",
    "y = np.array([4, 2, 7, 4, 15]) \n",
    "\n",
    "w = np.array([0.0, 0.0])\n",
    "\n",
    "loss = loss_function(X, w, y)\n",
    "\n",
    "print(\"Функція втрат MSE:\", loss)"
   ]
  },
  {
   "cell_type": "code",
   "execution_count": 27,
   "id": "760f12df",
   "metadata": {},
   "outputs": [],
   "source": [
    "#реалізуйте один крок градієнтного спуску;\n",
    "def gradient_step(X, y, w, learning_rate):\n",
    "  m = len(y)\n",
    "  grad = (X.T @ (h(X, w) - y)) / m\n",
    "  w -= learning_rate * grad\n",
    "  return w\n",
    "\n",
    "def gradient(X, y, learning_rate, num_iter, eps):\n",
    "  ones = np.ones((X.shape[0], 1))\n",
    "  X = np.hstack((ones, X))\n",
    "\n",
    "  w = np.zeros(X.shape[1])  # Initialize weights\n",
    "\n",
    "  loss = loss_function(X, y, w)\n",
    "  loss_history = [loss]\n",
    "\n",
    "  for _ in range(num_iterations):\n",
    "    w= gradient_step(X, y, w, learning_rate)\n",
    "\n",
    "    loss = loss_function(X, y, w)\n",
    "    if abs(loss - loss_history[-1]) < eps:\n",
    "      loss_history.append(loss)\n",
    "      break\n",
    "\n",
    "    loss_history.append(loss)\n",
    "  return w, loss_history\n"
   ]
  },
  {
   "cell_type": "code",
   "execution_count": 28,
   "id": "0a3c342c",
   "metadata": {},
   "outputs": [
    {
     "data": {
      "text/html": [
       "<div>\n",
       "<style scoped>\n",
       "    .dataframe tbody tr th:only-of-type {\n",
       "        vertical-align: middle;\n",
       "    }\n",
       "\n",
       "    .dataframe tbody tr th {\n",
       "        vertical-align: top;\n",
       "    }\n",
       "\n",
       "    .dataframe thead th {\n",
       "        text-align: right;\n",
       "    }\n",
       "</style>\n",
       "<table border=\"1\" class=\"dataframe\">\n",
       "  <thead>\n",
       "    <tr style=\"text-align: right;\">\n",
       "      <th></th>\n",
       "      <th>price</th>\n",
       "      <th>area</th>\n",
       "      <th>bedrooms</th>\n",
       "      <th>bathrooms</th>\n",
       "      <th>stories</th>\n",
       "      <th>mainroad</th>\n",
       "      <th>guestroom</th>\n",
       "      <th>basement</th>\n",
       "      <th>hotwaterheating</th>\n",
       "      <th>airconditioning</th>\n",
       "      <th>parking</th>\n",
       "      <th>prefarea</th>\n",
       "      <th>furnishingstatus</th>\n",
       "    </tr>\n",
       "  </thead>\n",
       "  <tbody>\n",
       "    <tr>\n",
       "      <th>0</th>\n",
       "      <td>13300000</td>\n",
       "      <td>7420</td>\n",
       "      <td>4</td>\n",
       "      <td>2</td>\n",
       "      <td>3</td>\n",
       "      <td>yes</td>\n",
       "      <td>no</td>\n",
       "      <td>no</td>\n",
       "      <td>no</td>\n",
       "      <td>yes</td>\n",
       "      <td>2</td>\n",
       "      <td>yes</td>\n",
       "      <td>furnished</td>\n",
       "    </tr>\n",
       "    <tr>\n",
       "      <th>1</th>\n",
       "      <td>12250000</td>\n",
       "      <td>8960</td>\n",
       "      <td>4</td>\n",
       "      <td>4</td>\n",
       "      <td>4</td>\n",
       "      <td>yes</td>\n",
       "      <td>no</td>\n",
       "      <td>no</td>\n",
       "      <td>no</td>\n",
       "      <td>yes</td>\n",
       "      <td>3</td>\n",
       "      <td>no</td>\n",
       "      <td>furnished</td>\n",
       "    </tr>\n",
       "    <tr>\n",
       "      <th>2</th>\n",
       "      <td>12250000</td>\n",
       "      <td>9960</td>\n",
       "      <td>3</td>\n",
       "      <td>2</td>\n",
       "      <td>2</td>\n",
       "      <td>yes</td>\n",
       "      <td>no</td>\n",
       "      <td>yes</td>\n",
       "      <td>no</td>\n",
       "      <td>no</td>\n",
       "      <td>2</td>\n",
       "      <td>yes</td>\n",
       "      <td>semi-furnished</td>\n",
       "    </tr>\n",
       "    <tr>\n",
       "      <th>3</th>\n",
       "      <td>12215000</td>\n",
       "      <td>7500</td>\n",
       "      <td>4</td>\n",
       "      <td>2</td>\n",
       "      <td>2</td>\n",
       "      <td>yes</td>\n",
       "      <td>no</td>\n",
       "      <td>yes</td>\n",
       "      <td>no</td>\n",
       "      <td>yes</td>\n",
       "      <td>3</td>\n",
       "      <td>yes</td>\n",
       "      <td>furnished</td>\n",
       "    </tr>\n",
       "    <tr>\n",
       "      <th>4</th>\n",
       "      <td>11410000</td>\n",
       "      <td>7420</td>\n",
       "      <td>4</td>\n",
       "      <td>1</td>\n",
       "      <td>2</td>\n",
       "      <td>yes</td>\n",
       "      <td>yes</td>\n",
       "      <td>yes</td>\n",
       "      <td>no</td>\n",
       "      <td>yes</td>\n",
       "      <td>2</td>\n",
       "      <td>no</td>\n",
       "      <td>furnished</td>\n",
       "    </tr>\n",
       "  </tbody>\n",
       "</table>\n",
       "</div>"
      ],
      "text/plain": [
       "      price  area  bedrooms  bathrooms  stories mainroad guestroom basement  \\\n",
       "0  13300000  7420         4          2        3      yes        no       no   \n",
       "1  12250000  8960         4          4        4      yes        no       no   \n",
       "2  12250000  9960         3          2        2      yes        no      yes   \n",
       "3  12215000  7500         4          2        2      yes        no      yes   \n",
       "4  11410000  7420         4          1        2      yes       yes      yes   \n",
       "\n",
       "  hotwaterheating airconditioning  parking prefarea furnishingstatus  \n",
       "0              no             yes        2      yes        furnished  \n",
       "1              no             yes        3       no        furnished  \n",
       "2              no              no        2      yes   semi-furnished  \n",
       "3              no             yes        3      yes        furnished  \n",
       "4              no             yes        2       no        furnished  "
      ]
     },
     "execution_count": 28,
     "metadata": {},
     "output_type": "execute_result"
    }
   ],
   "source": [
    "#знайдіть найкращі параметри $\\vec{w}$ для датасету прогнозуючу ціну на будинок залежно від площі, кількості ванних кімнат та кількості спалень;\n",
    "data = pd.read_csv('Housing.csv')\n",
    "data.head()"
   ]
  },
  {
   "cell_type": "code",
   "execution_count": 30,
   "id": "f64040df",
   "metadata": {},
   "outputs": [
    {
     "data": {
      "text/plain": [
       "array([3.78762754e+02, 4.06820034e+05, 1.38604950e+06])"
      ]
     },
     "execution_count": 30,
     "metadata": {},
     "output_type": "execute_result"
    }
   ],
   "source": [
    "X = data[['area', 'bedrooms', 'bathrooms']]\n",
    "y = data['price']\n",
    "model = lr()\n",
    "model.fit(X, y)\n",
    "w = model.coef_\n",
    "w"
   ]
  },
  {
   "cell_type": "code",
   "execution_count": 31,
   "id": "54d24130",
   "metadata": {},
   "outputs": [
    {
     "data": {
      "text/plain": [
       "array([3.78762754e+02, 4.06820034e+05, 1.38604950e+06])"
      ]
     },
     "execution_count": 31,
     "metadata": {},
     "output_type": "execute_result"
    }
   ],
   "source": [
    "#знайдіть ці ж параметри за допомогою аналітичного рішення;\n",
    "X = data[['area', 'bedrooms', 'bathrooms']]\n",
    "y = data['price']\n",
    "X = X.copy()\n",
    "X['bias'] = 1\n",
    "w1 = np.linalg.inv(X.T.dot(X)).dot(X.T).dot(y)\n",
    "w1 = w1[:-1] \n",
    "w1"
   ]
  },
  {
   "cell_type": "code",
   "execution_count": null,
   "id": "444e5784",
   "metadata": {},
   "outputs": [],
   "source": [
    "#порівняйте отримані результати.\n",
    "w == w1"
   ]
  }
 ],
 "metadata": {
  "kernelspec": {
   "display_name": "Python 3",
   "language": "python",
   "name": "python3"
  },
  "language_info": {
   "codemirror_mode": {
    "name": "ipython",
    "version": 3
   },
   "file_extension": ".py",
   "mimetype": "text/x-python",
   "name": "python",
   "nbconvert_exporter": "python",
   "pygments_lexer": "ipython3",
   "version": "3.11.3"
  }
 },
 "nbformat": 4,
 "nbformat_minor": 5
}
